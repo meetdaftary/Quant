{
 "cells": [
  {
   "cell_type": "markdown",
   "metadata": {},
   "source": [
    "**QUINTANGULAR ARBITRAGE OR MULTI-CURRENCY ARBITRAGE (THE FOLLOWING IS A LOW-LEVEL BUT ADVANCED IMPLEMENTATION OF TRIANGULAR ARBITRAGE STRATEGY. IT IS LOW LEVEL COZ UIP HAS NOT BEEN FACTORED IN.)**"
   ]
  },
  {
   "cell_type": "code",
   "execution_count": 5,
   "metadata": {},
   "outputs": [
    {
     "name": "stdout",
     "output_type": "stream",
     "text": [
      "[[1.0, 0.0183743, 0.0110448, 1.8100022, 0.0116032], [54.4720422, 1.0008868, 0.6027328, 98.738, 0.63205], [90.54063, 1.66504, 1.0007901, 163.929, 1.05137], [0.552994, 0.0101805, 0.0061167, 1.0009204, 0.0064165], [86.183, 1.5849619, 0.9526441, 156.137, 1.0007907]]\n",
      "Maximum Ending Amount: 2040876.2564785418\n",
      "Transaction Path: [4, 3, 1, 3, 1, 3, 1, 3, 1, 4]\n",
      "Profit/Loss %:  2.0438128239270883 %\n"
     ]
    }
   ],
   "source": [
    "import tradermade as tm\n",
    "tm.set_rest_api_key(\"\")\n",
    "x=['INR','AUD','EUR','JPY','USD']\n",
    "df=tm.live(currency='{a}{a},{a}{b},{a}{c},{a}{d},{a}{e},{b}{a},{b}{b},{b}{c},{b}{d},{b}{e},{c}{a},{c}{b},{c}{c},{c}{d},{c}{e},{d}{a},{d}{b},{d}{c},{d}{d},{d}{e},{e}{a},{e}{b},{e}{c},{e}{d},{e}{e}'.format(a='INR',b='AUD',c='EUR',d='JPY',e='USD'),fields=[\"ask\"]) # returns live data - fields is optional\n",
    "exchange_matrix = [df['ask'].tolist()[i:i + 5] for i in range(0, len(df), 5)]\n",
    "print(exchange_matrix)\n",
    "\n",
    "def maximize_exchange_with_path(exchange_matrix, current_amount, current_currency, transaction_count, max_transactions, start_currency, path):\n",
    "    if transaction_count == max_transactions:\n",
    "        if current_currency != start_currency:\n",
    "            return -float('inf'), []\n",
    "        return current_amount, path\n",
    "\n",
    "    best_amount = -float('inf')\n",
    "    best_path = []\n",
    "    for next_currency in range(len(exchange_matrix)):\n",
    "        new_amount = current_amount * exchange_matrix[current_currency][next_currency]\n",
    "        amount, subpath = maximize_exchange_with_path(\n",
    "            exchange_matrix, new_amount, next_currency, transaction_count + 1, max_transactions, start_currency, path + [next_currency]\n",
    "        )\n",
    "        if amount > best_amount:\n",
    "            best_amount = amount\n",
    "            best_path = subpath\n",
    "\n",
    "    return best_amount, best_path\n",
    "\n",
    "START_AMOUNT = 2_000_000\n",
    "MAX_TRANSACTIONS = 9\n",
    "START_CURRENCY = 4  #Last row is the start and end currency\n",
    "\n",
    "max_end_amount, transaction_path = maximize_exchange_with_path(\n",
    "    exchange_matrix, START_AMOUNT, START_CURRENCY, 0, MAX_TRANSACTIONS, START_CURRENCY, [START_CURRENCY]\n",
    ")\n",
    "\n",
    "print(\"Maximum Ending Amount:\", max_end_amount)\n",
    "print(\"Transaction Path:\", transaction_path)\n",
    "print(\"Profit/Loss %: \", (max_end_amount-START_AMOUNT)*100/START_AMOUNT,\"%\")"
   ]
  },
  {
   "cell_type": "code",
   "execution_count": null,
   "metadata": {},
   "outputs": [],
   "source": []
  }
 ],
 "metadata": {
  "kernelspec": {
   "display_name": "Python 3",
   "language": "python",
   "name": "python3"
  },
  "language_info": {
   "codemirror_mode": {
    "name": "ipython",
    "version": 3
   },
   "file_extension": ".py",
   "mimetype": "text/x-python",
   "name": "python",
   "nbconvert_exporter": "python",
   "pygments_lexer": "ipython3",
   "version": "3.10.7"
  }
 },
 "nbformat": 4,
 "nbformat_minor": 2
}
